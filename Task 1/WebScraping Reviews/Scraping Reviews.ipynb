{
 "cells": [
  {
   "cell_type": "code",
   "execution_count": 22,
   "id": "9e0c9c5d",
   "metadata": {},
   "outputs": [
    {
     "name": "stdout",
     "output_type": "stream",
     "text": [
      "Data extracted and saved to 'british_airways_reviews.csv'\n"
     ]
    }
   ],
   "source": [
    "import requests\n",
    "from bs4 import BeautifulSoup\n",
    "import pandas as pd\n",
    "\n",
    "# URL for the British Airways reviews\n",
    "ba_review_link = 'https://www.airlinequality.com/airline-reviews/british-airways/?sortby=post_date%3ADesc&pagesize=100000'\n",
    "\n",
    "# Get the page content\n",
    "res = requests.get(ba_review_link)\n",
    "soup = BeautifulSoup(res.content, 'html.parser')\n",
    "\n",
    "# Initialize lists to store data\n",
    "data = []\n",
    "\n",
    "# Extract data from each review article\n",
    "for sp in soup.find_all('article', itemprop='review'):\n",
    "    review_data = {}\n",
    "    \n",
    "    # Scraping the Total Rating\n",
    "    rating_value = sp.find('span', itemprop='ratingValue')\n",
    "    if rating_value:\n",
    "        review_data['Total Rating'] = rating_value.text\n",
    "    \n",
    "    # Scraping the review text\n",
    "    review_header = sp.find('h2', class_='text_header')\n",
    "    if review_header:\n",
    "        review_data['Review Summary'] = review_header.get_text(strip=True)\n",
    "    \n",
    "    # Extract User's name and Country\n",
    "    user_info = sp.find('h3', class_='text_sub_header userStatusWrapper')\n",
    "    if user_info:\n",
    "        user_name = user_info.find('span', itemprop='name')\n",
    "        if user_name:\n",
    "            review_data['Name'] = user_name.get_text(strip=True)\n",
    "        \n",
    "        # Extract Country, handle multiple spaces and text around it\n",
    "        country_info = user_name.next_sibling\n",
    "        if country_info and isinstance(country_info, str):\n",
    "            country = country_info.strip('() ')\n",
    "            review_data['Country'] = country\n",
    "    \n",
    "    # Extract the review text and verify if it's a verified trip\n",
    "    review_div = sp.find('div', class_='text_content', itemprop='reviewBody')\n",
    "    if review_div:\n",
    "        review_data['Verified'] = 'yes' if '✅' in review_div.get_text() else 'no'\n",
    "    \n",
    "    # Extract table data\n",
    "    review_tables = sp.find_all('table', class_='review-ratings')\n",
    "    for table in review_tables:\n",
    "        rows = table.find_all('tr')\n",
    "        for row in rows:\n",
    "            key_cell = row.find('td', class_='review-rating-header')\n",
    "            value_cell = row.find('td', class_='review-value') or row.find('td', class_='review-rating-stars')\n",
    "            if key_cell and value_cell:\n",
    "                key = key_cell.get_text(strip=True)\n",
    "                if 'stars' in value_cell.get('class', []):\n",
    "                    value = len(value_cell.find_all('span', class_='star fill'))\n",
    "                else:\n",
    "                    value = value_cell.get_text(strip=True)\n",
    "                review_data[key] = value\n",
    "    \n",
    "    # Append the review data to the list\n",
    "    if 'Name' in review_data:  # Ensure the user name is present\n",
    "        data.append(review_data)\n",
    "\n",
    "# Create a DataFrame and save it to a CSV file\n",
    "df = pd.DataFrame(data)\n",
    "df.to_csv('british_airways_reviews.csv', index=False)\n",
    "\n",
    "print(\"Data extracted and saved to 'british_airways_reviews.csv'\")\n"
   ]
  },
  {
   "cell_type": "code",
   "execution_count": null,
   "id": "51d4fa95",
   "metadata": {},
   "outputs": [],
   "source": []
  }
 ],
 "metadata": {
  "kernelspec": {
   "display_name": "Python 3 (ipykernel)",
   "language": "python",
   "name": "python3"
  },
  "language_info": {
   "codemirror_mode": {
    "name": "ipython",
    "version": 3
   },
   "file_extension": ".py",
   "mimetype": "text/x-python",
   "name": "python",
   "nbconvert_exporter": "python",
   "pygments_lexer": "ipython3",
   "version": "3.11.4"
  }
 },
 "nbformat": 4,
 "nbformat_minor": 5
}
